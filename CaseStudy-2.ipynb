{
 "cells": [
  {
   "cell_type": "code",
   "execution_count": 166,
   "id": "257c0612",
   "metadata": {},
   "outputs": [],
   "source": [
    "import numpy as np\n",
    "import pandas as pd\n",
    "import csv\n",
    "import matplotlib.pyplot as plt"
   ]
  },
  {
   "cell_type": "code",
   "execution_count": 167,
   "id": "75118643",
   "metadata": {},
   "outputs": [],
   "source": [
    "st = pd.read_csv(\"C:/Users/tejas/OneDrive/Desktop/startup_funding.csv\")"
   ]
  },
  {
   "cell_type": "markdown",
   "id": "fb39c394",
   "metadata": {},
   "source": [
    "# Question -1"
   ]
  },
  {
   "cell_type": "markdown",
   "id": "6c798277",
   "metadata": {},
   "source": [
    "Your Friend has developed the Product and he wants to establish the product startup and he is searching for a perfect location where getting the investment has a high chance. But due to its financial restriction, he can choose only between three locations -  Bangalore, Mumbai, and NCR. As a friend, you want to help your friend deciding the location. NCR include Gurgaon, Noida and New Delhi. Find the location where the most number of funding is done. That means, find the location where startups has received funding maximum number of times. Plot the bar graph between location and number of funding. Take city name \"Delhi\" as \"New Delhi\". Check the case-sensitiveness of cities also. That means, at some place instead of \"Bangalore\", \"bangalore\" is given. Take city name as \"Bangalore\". For few startups multiple locations are given, one Indian and one Foreign. Consider the startup if any one of the city lies in given locations."
   ]
  },
  {
   "cell_type": "code",
   "execution_count": 190,
   "id": "906db3d8",
   "metadata": {},
   "outputs": [],
   "source": [
    "df = st.copy()"
   ]
  },
  {
   "cell_type": "code",
   "execution_count": 195,
   "id": "75e9dab1",
   "metadata": {},
   "outputs": [
    {
     "name": "stdout",
     "output_type": "stream",
     "text": [
      "Bangalore 635\n",
      "Mumbai 449\n",
      "New Delhi 389\n",
      "Gurgaon 241\n",
      "Noida 79\n",
      "Max funding is done in Bangalore , 635 times.\n"
     ]
    }
   ],
   "source": [
    "df.dropna(subset=['CityLocation'],inplace=True)\n",
    "\n",
    "df['CityLocation'].replace('Delhi','New Delhi',inplace=True)\n",
    "df['CityLocation'].replace('bangalore','Bangalore',inplace=True)\n",
    "\n",
    "df = df[(df.CityLocation == 'Mumbai') | (df.CityLocation == 'Gurgaon') | (df.CityLocation == 'Noida') | (df.CityLocation == 'Bangalore') | (df.CityLocation == 'New Delhi')]\n",
    "\n",
    "count = df.CityLocation.value_counts()\n",
    "index = count.index\n",
    "values = count.values\n",
    "\n",
    "for i in range (len(index)):\n",
    "    print(index[i],values[i])\n",
    "\n",
    "print('Max funding is done in',index[0],\",\",values[0],'times.')"
   ]
  },
  {
   "cell_type": "code",
   "execution_count": 170,
   "id": "526c2ada",
   "metadata": {
    "scrolled": true
   },
   "outputs": [
    {
     "data": {
      "image/png": "[encoded data removed]",
      "text/plain": [
       "<Figure size 432x288 with 1 Axes>"
      ]
     },
     "metadata": {
      "needs_background": "light"
     },
     "output_type": "display_data"
    }
   ],
   "source": [
    "plt.bar(city,no_of_investments)\n",
    "plt.title('City vs No. of Funding')\n",
    "plt.xlabel('City')\n",
    "plt.ylabel('No. of Investments')\n",
    "plt.show()"
   ]
  },
  {
   "cell_type": "markdown",
   "id": "8d46b8fa",
   "metadata": {},
   "source": [
    "# Question - 2"
   ]
  },
  {
   "cell_type": "markdown",
   "id": "2f543253",
   "metadata": {},
   "source": [
    "Even after trying for so many times, your friend’s startup could not find the investment. So you decided to take this matter in your hand and try to find the list of investors who probably can invest in your friend’s startup. Your list will increase the chance of your friend startup getting some initial investment by contacting these investors. Find the top 5 investors who have invested maximum number of times (consider repeat investments in one company also). In a startup, multiple investors might have invested. So consider each investor for that startup. Ignore undisclosed investors."
   ]
  },
  {
   "cell_type": "code",
   "execution_count": 171,
   "id": "d087def8",
   "metadata": {},
   "outputs": [],
   "source": [
    "df = st.copy()"
   ]
  },
  {
   "cell_type": "code",
   "execution_count": 172,
   "id": "77b0b145",
   "metadata": {},
   "outputs": [
    {
     "name": "stdout",
     "output_type": "stream",
     "text": [
      "Sequoia Capital 64\n",
      "Accel Partners 53\n",
      "Kalaari Capital 44\n",
      "SAIF Partners 41\n",
      "Indian Angel Network 40\n"
     ]
    }
   ],
   "source": [
    "df.dropna(subset=['InvestorsName'], inplace=True)\n",
    "\n",
    "d={}\n",
    "\n",
    "def names(invest):\n",
    "    l = invest.split(',')\n",
    "    for i in l:\n",
    "        i = i.strip()\n",
    "        if i in d:\n",
    "            d[i] += 1\n",
    "        else:\n",
    "            d[i] = 1\n",
    "    return l\n",
    "            \n",
    "df['InvestorsName'].apply(names)\n",
    "\n",
    "key = np.array(list(d.keys()))\n",
    "values = np.array(list(d.values()))\n",
    "\n",
    "ind = values.argsort()[::-1]\n",
    "ind=ind[:5]\n",
    "\n",
    "key = key[ind]\n",
    "values = values[ind]\n",
    "\n",
    "for i in range (len(key)):\n",
    "    print(key[i],values[i])"
   ]
  },
  {
   "cell_type": "code",
   "execution_count": 173,
   "id": "19d0ccff",
   "metadata": {},
   "outputs": [
    {
     "data": {
      "image/png": "[encoded data removed]",
      "text/plain": [
       "<Figure size 432x288 with 1 Axes>"
      ]
     },
     "metadata": {
      "needs_background": "light"
     },
     "output_type": "display_data"
    }
   ],
   "source": [
    "plt.bar(key,values)\n",
    "plt.title('Investor vs No. of funding')\n",
    "plt.xlabel('Investors')\n",
    "plt.ylabel('No. of funding')\n",
    "plt.xticks(rotation='vertical')\n",
    "plt.show()"
   ]
  },
  {
   "cell_type": "markdown",
   "id": "34131825",
   "metadata": {},
   "source": [
    "# Question - 3"
   ]
  },
  {
   "cell_type": "markdown",
   "id": "e9edf5b9",
   "metadata": {},
   "source": [
    "After re-analysing the dataset you found out that some investors have invested in the same startup at different number of funding rounds. So before finalising the previous list, you want to improvise it by finding the top 5 investors who have invested in different number of startups. This list will be more helpful than your previous list in finding the investment for your friend startup. Find the top 5 investors who have invested maximum number of times in different companies. That means, if one investor has invested multiple times in one startup, count one for that company. There are many errors in startup names. Ignore correcting all, just handle the important ones - Ola, Flipkart, Oyo and Paytm."
   ]
  },
  {
   "cell_type": "code",
   "execution_count": 174,
   "id": "96e0cead",
   "metadata": {},
   "outputs": [],
   "source": [
    "df = st.copy()"
   ]
  },
  {
   "cell_type": "code",
   "execution_count": 175,
   "id": "f179ecea",
   "metadata": {},
   "outputs": [],
   "source": [
    "df.dropna(subset=['StartupName','InvestorsName'],inplace=True)"
   ]
  },
  {
   "cell_type": "code",
   "execution_count": 176,
   "id": "b9c47ed8",
   "metadata": {},
   "outputs": [],
   "source": [
    "df['StartupName'].replace('Flipkart.com','Flipkart',inplace=True)\n",
    "df['StartupName'].replace('Ola Cabs','Ola',inplace=True)\n",
    "df['StartupName'].replace('Olacabs','Ola',inplace=True)\n",
    "df['StartupName'].replace('Ola Cabs','Ola',inplace=True)\n",
    "df['StartupName'].replace('Olacabs','Ola',inplace=True)\n",
    "df['StartupName'].replace('Oyo Rooms','Oyo',inplace=True)\n",
    "df['StartupName'].replace('Oyorooms','Oyo',inplace=True)\n",
    "df['StartupName'].replace('OyoRooms','Oyo',inplace=True)\n",
    "df['StartupName'].replace('OYO Rooms','Oyo',inplace=True)\n",
    "df['StartupName'].replace('Paytm Marketplace','Paytm',inplace=True)"
   ]
  },
  {
   "cell_type": "code",
   "execution_count": 177,
   "id": "8aa0d2f4",
   "metadata": {
    "scrolled": true
   },
   "outputs": [
    {
     "name": "stdout",
     "output_type": "stream",
     "text": [
      "Sequoia Capital 48\n",
      "Accel Partners 47\n",
      "Kalaari Capital 41\n",
      "Indian Angel Network 40\n",
      "Blume Ventures 36\n"
     ]
    }
   ],
   "source": [
    "startup=list(df.StartupName)\n",
    "investor_list=list(df.InvestorsName)\n",
    "\n",
    "d={}\n",
    "for i in range(len(investor_list)):\n",
    "    investor = investor_list[i].split(',')\n",
    "    for invest in investor:\n",
    "        invest=invest.strip()\n",
    "        if (invest != \"\") and (invest != \"Undisclosed Investors\"):\n",
    "            if invest in d:\n",
    "                s=d[invest]\n",
    "                s.add(startup[i])\n",
    "                d[invest]=s\n",
    "            else:\n",
    "                d[invest]={startup[i]}\n",
    "            \n",
    "for key in d:\n",
    "    d[key] = (len(d[key]))\n",
    "\n",
    "key = np.array(list(d.keys()))\n",
    "values = np.array(list(d.values()))\n",
    "\n",
    "ind = values.argsort()[::-1]\n",
    "ind = ind[:5]\n",
    "\n",
    "key = key[ind]\n",
    "values = values[ind]\n",
    "\n",
    "for i in range(len(key)):\n",
    "    print(key[i], values[i])\n",
    "    "
   ]
  },
  {
   "cell_type": "code",
   "execution_count": 178,
   "id": "a5cfa19f",
   "metadata": {
    "scrolled": true
   },
   "outputs": [
    {
     "data": {
      "image/png": "[encoded data removed]",
      "text/plain": [
       "<Figure size 432x288 with 1 Axes>"
      ]
     },
     "metadata": {
      "needs_background": "light"
     },
     "output_type": "display_data"
    }
   ],
   "source": [
    "plt.bar(key,values)\n",
    "plt.title('Investors vs No. of Funding')\n",
    "plt.xlabel('Investors')\n",
    "plt.ylabel('No. of Funding')\n",
    "plt.xticks(rotation='vertical')\n",
    "plt.show()"
   ]
  },
  {
   "cell_type": "markdown",
   "id": "af4b7170",
   "metadata": {},
   "source": [
    "# Question - 4"
   ]
  },
  {
   "cell_type": "markdown",
   "id": "5d85260a",
   "metadata": {},
   "source": [
    "Even after putting so much effort in finding the probable investors, it didn't turn out to be helpful for your friend. So you went to your investor friend to understand the situation better and your investor friend explained to you about the different Investment Types and their features. This new information will be helpful in finding the right investor. Since your friend startup is at an early stage startup, the best-suited investment type would be - Seed Funding and Crowdfunding. Find the top 5 investors who have invested in a different number of startups and their investment type is Crowdfunding or Seed Funding. Correct spelling of investment types are - \"Private Equity\", \"Seed Funding\", \"Debt Funding\", and \"Crowd Funding\". Keep an eye for any spelling mistake. You can find this by printing unique values from this column. There are many errors in startup names. Ignore correcting all, just handle the important ones - Ola, Flipkart, Oyo and Paytm."
   ]
  },
  {
   "cell_type": "code",
   "execution_count": 179,
   "id": "ee2f2aaa",
   "metadata": {},
   "outputs": [],
   "source": [
    "df = st.copy()"
   ]
  },
  {
   "cell_type": "code",
   "execution_count": 180,
   "id": "8881d412",
   "metadata": {},
   "outputs": [],
   "source": [
    "df.dropna(subset = ['InvestorsName','InvestmentType','StartupName'], inplace = True)"
   ]
  },
  {
   "cell_type": "code",
   "execution_count": 181,
   "id": "f2b999e4",
   "metadata": {},
   "outputs": [],
   "source": [
    "df['InvestmentType'].replace('Crowd funding','Crowd Funding',inplace = True)\n",
    "df['InvestmentType'].replace('SeedFunding','Seed Funding',inplace = True)\n",
    "df['InvestmentType'].replace('PrivateEquity','Private Equity',inplace = True)"
   ]
  },
  {
   "cell_type": "code",
   "execution_count": 182,
   "id": "db301c04",
   "metadata": {},
   "outputs": [],
   "source": [
    "df['InvestorsName'].replace('Undisclosed investors','Undisclosed Investors',inplace=True)\n",
    "df['StartupName'].replace('Flipkart.com','Flipkart',inplace=True)\n",
    "df['StartupName'].replace('Ola Cabs','Ola',inplace=True)\n",
    "df['StartupName'].replace('Olacabs','Ola',inplace=True)\n",
    "df['StartupName'].replace('Ola Cabs','Ola',inplace=True)\n",
    "df['StartupName'].replace('Olacabs','Ola',inplace=True)\n",
    "df['StartupName'].replace('Oyo Rooms','Oyo',inplace=True)\n",
    "df['StartupName'].replace('Oyorooms','Oyo',inplace=True)\n",
    "df['StartupName'].replace('OyoRooms','Oyo',inplace=True)\n",
    "df['StartupName'].replace('OYO Rooms','Oyo',inplace=True)\n",
    "df['StartupName'].replace('Paytm Marketplace','Paytm',inplace=True)"
   ]
  },
  {
   "cell_type": "code",
   "execution_count": 183,
   "id": "6e222fb8",
   "metadata": {},
   "outputs": [
    {
     "name": "stdout",
     "output_type": "stream",
     "text": [
      "Indian Angel Network 33\n",
      "Rajan Anandan 23\n",
      "LetsVenture 16\n",
      "Anupam Mittal 16\n",
      "Group of Angel Investors 14\n"
     ]
    }
   ],
   "source": [
    "df=df[(df.InvestmentType=='Seed Funding') | (df.InvestmentType=='Crowd Funding')]\n",
    "\n",
    "startup=list(df.StartupName)\n",
    "investor_list=list(df.InvestorsName)\n",
    "\n",
    "d={}\n",
    "for i in range(len(investor_list)):\n",
    "    investor = investor_list[i].split(',')\n",
    "    for invest in investor:\n",
    "        invest=invest.strip()\n",
    "        if (invest != \"\") and (invest != \"Undisclosed Investors\"):\n",
    "            if invest in d:\n",
    "                s=d[invest]\n",
    "                s.add(startup[i])\n",
    "                d[invest]=s\n",
    "            else:\n",
    "                d[invest]={startup[i]}\n",
    "                \n",
    "for key in d:\n",
    "    d[key]=len(d[key])\n",
    "\n",
    "key = np.array(list(d.keys()))\n",
    "values = np.array(list(d.values()))\n",
    "\n",
    "ind = values.argsort()[::-1]\n",
    "ind = ind[:5]\n",
    "\n",
    "key = key[ind]\n",
    "values = values[ind]\n",
    "\n",
    "for i in range(len(key)):\n",
    "    print(key[i], values[i])\n",
    "\n",
    "                "
   ]
  },
  {
   "cell_type": "code",
   "execution_count": 184,
   "id": "20bb0f5a",
   "metadata": {
    "scrolled": true
   },
   "outputs": [
    {
     "data": {
      "image/png": "[encoded data removed]",
      "text/plain": [
       "<Figure size 432x288 with 1 Axes>"
      ]
     },
     "metadata": {
      "needs_background": "light"
     },
     "output_type": "display_data"
    }
   ],
   "source": [
    "plt.bar(key,values)\n",
    "plt.title('Investors vs No. of Funding')\n",
    "plt.xlabel('Investors')\n",
    "plt.ylabel('No. of Funding')\n",
    "plt.xticks(rotation='vertical')\n",
    "plt.show()"
   ]
  },
  {
   "cell_type": "markdown",
   "id": "554ec645",
   "metadata": {},
   "source": [
    "# Question - 5"
   ]
  },
  {
   "cell_type": "markdown",
   "id": "87a27833",
   "metadata": {},
   "source": [
    "Due to your immense help, your friend startup successfully got seed funding and it is on the operational mode. Now your friend wants to expand his startup and he is looking for new investors for his startup. Now you again come as a saviour to help your friend and want to create a list of probable new new investors. Before moving forward you remember your investor friend advice that finding the investors by analysing the investment type. Since your friend startup is not in early phase it is in growth stage so the best-suited investment type is Private Equity. Find the top 5 investors who have invested in a different number of startups and their investment type is Private Equity. Correct spelling of investment types are - \"Private Equity\", \"Seed Funding\", \"Debt Funding\", and \"Crowd Funding\". Keep an eye for any spelling mistake. You can find this by printing unique values from this column. There are many errors in startup names. Ignore correcting all, just handle the important ones - Ola, Flipkart, Oyo and Paytm."
   ]
  },
  {
   "cell_type": "code",
   "execution_count": 185,
   "id": "c035ccbe",
   "metadata": {},
   "outputs": [],
   "source": [
    "df = st.copy()"
   ]
  },
  {
   "cell_type": "code",
   "execution_count": 186,
   "id": "45fbc15b",
   "metadata": {},
   "outputs": [],
   "source": [
    "df['InvestmentType'].replace('SeedFunding','Seed Funding',inplace=True)\n",
    "df['InvestmentType'].replace('Crowd funding','Crowd Funding',inplace=True)\n",
    "df['InvestmentType'].replace('PrivateEquity','Private Equity',inplace=True)"
   ]
  },
  {
   "cell_type": "code",
   "execution_count": 187,
   "id": "bce7f8c0",
   "metadata": {},
   "outputs": [],
   "source": [
    "df['InvestorsName'].replace('Undisclosed investors','Undisclosed Investors',inplace=True)\n",
    "df['StartupName'].replace('Flipkart.com','Flipkart',inplace=True)\n",
    "df['StartupName'].replace('Ola Cabs','Ola',inplace=True)\n",
    "df['StartupName'].replace('Olacabs','Ola',inplace=True)\n",
    "df['StartupName'].replace('Ola Cabs','Ola',inplace=True)\n",
    "df['StartupName'].replace('Olacabs','Ola',inplace=True)\n",
    "df['StartupName'].replace('Oyo Rooms','Oyo',inplace=True)\n",
    "df['StartupName'].replace('Oyorooms','Oyo',inplace=True)\n",
    "df['StartupName'].replace('OyoRooms','Oyo',inplace=True)\n",
    "df['StartupName'].replace('OYO Rooms','Oyo',inplace=True)\n",
    "df['StartupName'].replace('Paytm Marketplace','Paytm',inplace=True)"
   ]
  },
  {
   "cell_type": "code",
   "execution_count": 188,
   "id": "d5e4b722",
   "metadata": {},
   "outputs": [
    {
     "name": "stdout",
     "output_type": "stream",
     "text": [
      "Sequoia Capital 45\n",
      "Accel Partners 43\n",
      "Kalaari Capital 35\n",
      "Blume Ventures 27\n",
      "SAIF Partners 24\n"
     ]
    }
   ],
   "source": [
    "df.dropna(subset = ['InvestorsName','StartupName','InvestmentType'],inplace=True)\n",
    "\n",
    "df=df[(df.InvestmentType=='Private Equity')]\n",
    "\n",
    "startup = list(df['StartupName'])\n",
    "investor_list = list(df[\"InvestorsName\"])\n",
    "\n",
    "d={}\n",
    "for i in range (len(investor_list)):\n",
    "    investor = investor_list[i].split(',')\n",
    "    for invest in investor:\n",
    "        invest = invest.strip()\n",
    "        if invest!=\"\" and invest!='Undisclosed Investors':\n",
    "            if invest in d:\n",
    "                s=d[invest]\n",
    "                s.add(startup[i])\n",
    "                d[invest]=s\n",
    "            else:\n",
    "                d[invest]={startup[i]}\n",
    "                \n",
    "for key in d:\n",
    "    d[key] = len(d[key])\n",
    "    \n",
    "key = np.array(list(d.keys()))\n",
    "values = np.array(list(d.values()))\n",
    "\n",
    "ind = values.argsort()[::-1]\n",
    "\n",
    "ind=ind[:5]\n",
    "\n",
    "key = key[ind]\n",
    "values = values[ind]\n",
    "\n",
    "for i in range(len(key)):\n",
    "    print(key[i], values[i])"
   ]
  },
  {
   "cell_type": "code",
   "execution_count": 189,
   "id": "2e605dc3",
   "metadata": {},
   "outputs": [
    {
     "data": {
      "image/png": "[encoded data removed]",
      "text/plain": [
       "<Figure size 432x288 with 1 Axes>"
      ]
     },
     "metadata": {
      "needs_background": "light"
     },
     "output_type": "display_data"
    }
   ],
   "source": [
    "plt.bar(key,values)\n",
    "plt.title('Investors vs No. of Funding')\n",
    "plt.xlabel('Investors')\n",
    "plt.ylabel('No. of Funding')\n",
    "plt.xticks(rotation='vertical')\n",
    "plt.show()"
   ]
  }
 ],
 "metadata": {
  "kernelspec": {
   "display_name": "Python 3 (ipykernel)",
   "language": "python",
   "name": "python3"
  },
  "language_info": {
   "codemirror_mode": {
    "name": "ipython",
    "version": 3
   },
   "file_extension": ".py",
   "mimetype": "text/x-python",
   "name": "python",
   "nbconvert_exporter": "python",
   "pygments_lexer": "ipython3",
   "version": "3.9.12"
  }
 },
 "nbformat": 4,
 "nbformat_minor": 5
}
